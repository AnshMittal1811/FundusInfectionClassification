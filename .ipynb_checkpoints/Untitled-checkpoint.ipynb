{
 "cells": [
  {
   "cell_type": "markdown",
   "metadata": {},
   "source": [
    "# Step 4: Dealing with Imbalanced Dataset"
   ]
  },
  {
   "cell_type": "code",
   "execution_count": 23,
   "metadata": {},
   "outputs": [
    {
     "ename": "PermissionError",
     "evalue": "[WinError 32] The process cannot access the file because it is being used by another process: './dataset/40.Glaucoma/15_g.jpg' -> './dataset/40.Glaucoma/14.jpg'",
     "output_type": "error",
     "traceback": [
      "\u001b[1;31m---------------------------------------------------------------------------\u001b[0m",
      "\u001b[1;31mPermissionError\u001b[0m                           Traceback (most recent call last)",
      "\u001b[1;32m<ipython-input-23-91085c9c55fa>\u001b[0m in \u001b[0;36m<module>\u001b[1;34m()\u001b[0m\n\u001b[0;32m     23\u001b[0m \u001b[1;33m\u001b[0m\u001b[0m\n\u001b[0;32m     24\u001b[0m     \u001b[1;32mfor\u001b[0m \u001b[0mindex\u001b[0m\u001b[1;33m,\u001b[0m \u001b[0mfile\u001b[0m \u001b[1;32min\u001b[0m \u001b[0menumerate\u001b[0m\u001b[1;33m(\u001b[0m\u001b[0mfiles\u001b[0m\u001b[1;33m)\u001b[0m\u001b[1;33m:\u001b[0m\u001b[1;33m\u001b[0m\u001b[0m\n\u001b[1;32m---> 25\u001b[1;33m         \u001b[0mos\u001b[0m\u001b[1;33m.\u001b[0m\u001b[0mrename\u001b[0m\u001b[1;33m(\u001b[0m\u001b[0mos\u001b[0m\u001b[1;33m.\u001b[0m\u001b[0mpath\u001b[0m\u001b[1;33m.\u001b[0m\u001b[0mjoin\u001b[0m\u001b[1;33m(\u001b[0m\u001b[0mpath\u001b[0m\u001b[1;33m,\u001b[0m \u001b[0mfile\u001b[0m\u001b[1;33m)\u001b[0m\u001b[1;33m,\u001b[0m \u001b[0mos\u001b[0m\u001b[1;33m.\u001b[0m\u001b[0mpath\u001b[0m\u001b[1;33m.\u001b[0m\u001b[0mjoin\u001b[0m\u001b[1;33m(\u001b[0m\u001b[0mpath\u001b[0m\u001b[1;33m,\u001b[0m \u001b[1;34m''\u001b[0m\u001b[1;33m.\u001b[0m\u001b[0mjoin\u001b[0m\u001b[1;33m(\u001b[0m\u001b[1;33m[\u001b[0m\u001b[0mstr\u001b[0m\u001b[1;33m(\u001b[0m\u001b[0mindex\u001b[0m\u001b[1;33m)\u001b[0m\u001b[1;33m,\u001b[0m \u001b[1;34m'.jpg'\u001b[0m\u001b[1;33m]\u001b[0m\u001b[1;33m)\u001b[0m\u001b[1;33m)\u001b[0m\u001b[1;33m)\u001b[0m\u001b[1;33m\u001b[0m\u001b[0m\n\u001b[0m",
      "\u001b[1;31mPermissionError\u001b[0m: [WinError 32] The process cannot access the file because it is being used by another process: './dataset/40.Glaucoma/15_g.jpg' -> './dataset/40.Glaucoma/14.jpg'"
     ]
    }
   ],
   "source": [
    "import os\n",
    "\n",
    "# ['04.DR1','05.DR2','06.DR3','07.BRVO','08.CRVO','09.RAO','10.Rhegmatogenous RD','011.CSCR','12.VKH disease',\n",
    "#           '13.Maculopathy','14.ERM','15.MH','16.Pathological myopia','17.Possible glaucoma','18.Optic atrophy',\n",
    "#           '19.Severe hypertensive retinopathy','20.Disc swelling and elevation','21.Dragged Disc','22.Congenital disc abnormality',\n",
    "#           '23.Retinitis pigmentosa','24.Bietti crystalline dystrophy','25.Peripheral retinal degeneration and break',\n",
    "#           '26.Myelinated nerve fiber','27.Vitreous particles','28.Fundus neoplasm','29.Massive hard exudates','30.Yellow-white spots-flecks',\n",
    "#           '31.Cotton-wool spots','32.Vessel tortuosity','33.Chorioretinal atrophy-coloboma','34.Preretinal hemorrhage',\n",
    "#           '35.Fibrosis','36.Laser Spots','37.Silicon oil in eye','38.Blur fundus without PDR','39.Blur fundus with suspected PDR',\n",
    "#           '40.Glaucoma']\n",
    "\n",
    "for i in ['11.CSCR','12.VKH disease',\n",
    "          '13.Maculopathy','14.ERM','15.MH','16.Pathological myopia','17.Possible glaucoma','18.Optic atrophy',\n",
    "          '19.Severe hypertensive retinopathy','20.Disc swelling and elevation','21.Dragged Disc','22.Congenital disc abnormality',\n",
    "          '23.Retinitis pigmentosa','24.Bietti crystalline dystrophy','25.Peripheral retinal degeneration and break',\n",
    "          '26.Myelinated nerve fiber','27.Vitreous particles','28.Fundus neoplasm','29.Massive hard exudates','30.Yellow-white spots-flecks',\n",
    "          '31.Cotton-wool spots','32.Vessel tortuosity','33.Chorioretinal atrophy-coloboma','34.Preretinal hemorrhage',\n",
    "          '35.Fibrosis','36.Laser Spots','37.Silicon oil in eye','38.Blur fundus without PDR','39.Blur fundus with suspected PDR',\n",
    "          '40.Glaucoma']:\n",
    "    path = './dataset/'+str(i)+'/'\n",
    "    files = os.listdir(path)\n",
    "\n",
    "    for index, file in enumerate(files):\n",
    "        os.rename(os.path.join(path, file), os.path.join(path, ''.join([str(index), '.jpg'])))"
   ]
  },
  {
   "cell_type": "code",
   "execution_count": 18,
   "metadata": {},
   "outputs": [],
   "source": [
    "# Importing relevant modules\n",
    "import Augmentor\n",
    "import warnings\n",
    "warnings.filterwarnings('ignore')\n",
    "from PIL import Image\n"
   ]
  },
  {
   "cell_type": "code",
   "execution_count": 28,
   "metadata": {},
   "outputs": [
    {
     "ename": "FileNotFoundError",
     "evalue": "[Errno 2] No such file or directory: './dataset/40.Glaucoma/14.jpg'",
     "output_type": "error",
     "traceback": [
      "\u001b[1;31m---------------------------------------------------------------------------\u001b[0m",
      "\u001b[1;31mFileNotFoundError\u001b[0m                         Traceback (most recent call last)",
      "\u001b[1;32m<ipython-input-28-eafcb73f4701>\u001b[0m in \u001b[0;36m<module>\u001b[1;34m()\u001b[0m\n\u001b[0;32m     13\u001b[0m     \u001b[0mx\u001b[0m \u001b[1;33m=\u001b[0m \u001b[0mlen\u001b[0m\u001b[1;33m(\u001b[0m\u001b[0mfiles\u001b[0m\u001b[1;33m)\u001b[0m\u001b[1;33m\u001b[0m\u001b[0m\n\u001b[0;32m     14\u001b[0m     \u001b[1;32mfor\u001b[0m \u001b[0mi\u001b[0m \u001b[1;32min\u001b[0m \u001b[0mrange\u001b[0m\u001b[1;33m(\u001b[0m\u001b[0mx\u001b[0m\u001b[1;33m)\u001b[0m\u001b[1;33m:\u001b[0m\u001b[1;33m\u001b[0m\u001b[0m\n\u001b[1;32m---> 15\u001b[1;33m         \u001b[0mImage\u001b[0m\u001b[1;33m.\u001b[0m\u001b[0mopen\u001b[0m\u001b[1;33m(\u001b[0m\u001b[1;34m\"./dataset/\"\u001b[0m\u001b[1;33m+\u001b[0m\u001b[0mstr\u001b[0m\u001b[1;33m(\u001b[0m\u001b[0mj\u001b[0m\u001b[1;33m)\u001b[0m\u001b[1;33m+\u001b[0m\u001b[1;34m\"/\"\u001b[0m\u001b[1;33m+\u001b[0m\u001b[0mstr\u001b[0m\u001b[1;33m(\u001b[0m\u001b[0mi\u001b[0m\u001b[1;33m)\u001b[0m\u001b[1;33m+\u001b[0m\u001b[1;34m\".jpg\"\u001b[0m\u001b[1;33m)\u001b[0m\u001b[1;33m.\u001b[0m\u001b[0msave\u001b[0m\u001b[1;33m(\u001b[0m\u001b[1;34m\"./Data/\"\u001b[0m\u001b[1;33m+\u001b[0m\u001b[0mstr\u001b[0m\u001b[1;33m(\u001b[0m\u001b[0mj\u001b[0m\u001b[1;33m)\u001b[0m\u001b[1;33m+\u001b[0m\u001b[1;34m\"/PNG/\"\u001b[0m\u001b[1;33m+\u001b[0m\u001b[0mstr\u001b[0m\u001b[1;33m(\u001b[0m\u001b[0mi\u001b[0m\u001b[1;33m)\u001b[0m\u001b[1;33m+\u001b[0m\u001b[1;34m\".png\"\u001b[0m\u001b[1;33m)\u001b[0m\u001b[1;33m\u001b[0m\u001b[0m\n\u001b[0m",
      "\u001b[1;32m~\\Anaconda3\\envs\\python-cvcourse\\lib\\site-packages\\PIL\\Image.py\u001b[0m in \u001b[0;36mopen\u001b[1;34m(fp, mode)\u001b[0m\n\u001b[0;32m   2578\u001b[0m \u001b[1;33m\u001b[0m\u001b[0m\n\u001b[0;32m   2579\u001b[0m     \u001b[1;32mif\u001b[0m \u001b[0mfilename\u001b[0m\u001b[1;33m:\u001b[0m\u001b[1;33m\u001b[0m\u001b[0m\n\u001b[1;32m-> 2580\u001b[1;33m         \u001b[0mfp\u001b[0m \u001b[1;33m=\u001b[0m \u001b[0mbuiltins\u001b[0m\u001b[1;33m.\u001b[0m\u001b[0mopen\u001b[0m\u001b[1;33m(\u001b[0m\u001b[0mfilename\u001b[0m\u001b[1;33m,\u001b[0m \u001b[1;34m\"rb\"\u001b[0m\u001b[1;33m)\u001b[0m\u001b[1;33m\u001b[0m\u001b[0m\n\u001b[0m\u001b[0;32m   2581\u001b[0m         \u001b[0mexclusive_fp\u001b[0m \u001b[1;33m=\u001b[0m \u001b[1;32mTrue\u001b[0m\u001b[1;33m\u001b[0m\u001b[0m\n\u001b[0;32m   2582\u001b[0m \u001b[1;33m\u001b[0m\u001b[0m\n",
      "\u001b[1;31mFileNotFoundError\u001b[0m: [Errno 2] No such file or directory: './dataset/40.Glaucoma/14.jpg'"
     ]
    }
   ],
   "source": [
    "from PIL import Image\n",
    "\n",
    "for j in ['04.DR1','05.DR2','06.DR3','07.BRVO','08.CRVO','09.RAO','10.Rhegmatogenous RD','11.CSCR','12.VKH disease',\n",
    "          '13.Maculopathy','14.ERM','15.MH','16.Pathological myopia','17.Possible glaucoma','18.Optic atrophy',\n",
    "          '19.Severe hypertensive retinopathy','20.Disc swelling and elevation','21.Dragged Disc','22.Congenital disc abnormality',\n",
    "          '23.Retinitis pigmentosa','24.Bietti crystalline dystrophy','25.Peripheral retinal degeneration and break',\n",
    "          '26.Myelinated nerve fiber','27.Vitreous particles','28.Fundus neoplasm','29.Massive hard exudates','30.Yellow-white spots-flecks',\n",
    "          '31.Cotton-wool spots','32.Vessel tortuosity','33.Chorioretinal atrophy-coloboma','34.Preretinal hemorrhage',\n",
    "          '35.Fibrosis','36.Laser Spots','37.Silicon oil in eye','38.Blur fundus without PDR','39.Blur fundus with suspected PDR',\n",
    "          '40.Glaucoma']:\n",
    "    \n",
    "    path = './dataset/'+str(j)+'/'\n",
    "    \n",
    "    files = os.listdir(path)\n",
    "    x = len(files)\n",
    "    \n",
    "    for i in range(x):\n",
    "        Image.open(\"./dataset/\"+str(j)+\"/\"+str(i)+\".jpg\").save(\"./Data/\"+str(j)+\"/PNG/\"+str(i)+\".png\")"
   ]
  },
  {
   "cell_type": "code",
   "execution_count": 30,
   "metadata": {},
   "outputs": [
    {
     "name": "stdout",
     "output_type": "stream",
     "text": [
      "Initialised with 38 image(s) found.\n",
      "Output directory set to ./Data/01.Normal/PNG\\output."
     ]
    },
    {
     "name": "stderr",
     "output_type": "stream",
     "text": [
      "Processing <PIL.Image.Image image mode=RGB size=3152x3000 at 0x19300D9F3C8>: 100%|█| 76/76 [00:55<00:00,  2.81s/ Samples]\n"
     ]
    },
    {
     "name": "stdout",
     "output_type": "stream",
     "text": [
      "Initialised with 13 image(s) found.\n",
      "Output directory set to ./Data/02.Tessellated fundus/PNG\\output."
     ]
    },
    {
     "name": "stderr",
     "output_type": "stream",
     "text": [
      "Processing <PIL.Image.Image image mode=RGB size=3046x2572 at 0x1935D52F128>: 100%|█| 26/26 [00:19<00:00,  1.37 Samples/s]\n"
     ]
    },
    {
     "name": "stdout",
     "output_type": "stream",
     "text": [
      "Initialised with 50 image(s) found.\n",
      "Output directory set to ./Data/03.Large optic cup/PNG\\output."
     ]
    },
    {
     "name": "stderr",
     "output_type": "stream",
     "text": [
      "Processing <PIL.Image.Image image mode=RGB size=2300x1900 at 0x1930045B710>: 100%|█| 100/100 [01:05<00:00,  1.53 Samples/s]\n"
     ]
    },
    {
     "name": "stdout",
     "output_type": "stream",
     "text": [
      "Initialised with 18 image(s) found.\n",
      "Output directory set to ./Data/04.DR1/PNG\\output."
     ]
    },
    {
     "name": "stderr",
     "output_type": "stream",
     "text": [
      "Processing <PIL.Image.Image image mode=RGB size=3152x3000 at 0x19300476780>: 100%|█| 36/36 [00:33<00:00,  1.07 Samples/s]\n"
     ]
    },
    {
     "name": "stdout",
     "output_type": "stream",
     "text": [
      "Initialised with 39 image(s) found.\n",
      "Output directory set to ./Data/06.DR3/PNG\\output."
     ]
    },
    {
     "name": "stderr",
     "output_type": "stream",
     "text": [
      "Processing <PIL.Image.Image image mode=RGB size=2100x2000 at 0x1930046E470>: 100%|█| 78/78 [00:55<00:00,  1.40 Samples/s]\n"
     ]
    },
    {
     "name": "stdout",
     "output_type": "stream",
     "text": [
      "Initialised with 22 image(s) found.\n",
      "Output directory set to ./Data/08.CRVO/PNG\\output."
     ]
    },
    {
     "name": "stderr",
     "output_type": "stream",
     "text": [
      "Processing <PIL.Image.Image image mode=RGB size=2300x1900 at 0x19300459080>: 100%|█| 44/44 [00:19<00:00,  2.30 Samples/s]\n"
     ]
    },
    {
     "name": "stdout",
     "output_type": "stream",
     "text": [
      "Initialised with 16 image(s) found.\n",
      "Output directory set to ./Data/09.RAO/PNG\\output."
     ]
    },
    {
     "name": "stderr",
     "output_type": "stream",
     "text": [
      "Processing <PIL.Image.Image image mode=RGB size=2300x1900 at 0x1935F2571D0>: 100%|█| 32/32 [00:16<00:00,  1.97 Samples/s]\n"
     ]
    },
    {
     "name": "stdout",
     "output_type": "stream",
     "text": [
      "Initialised with 14 image(s) found.\n",
      "Output directory set to ./Data/11.CSCR/PNG\\output."
     ]
    },
    {
     "name": "stderr",
     "output_type": "stream",
     "text": [
      "Processing <PIL.Image.Image image mode=RGB size=3046x2572 at 0x1935F35A0F0>: 100%|█| 28/28 [00:22<00:00,  1.25 Samples/s]\n"
     ]
    },
    {
     "name": "stdout",
     "output_type": "stream",
     "text": [
      "Initialised with 14 image(s) found.\n",
      "Output directory set to ./Data/12.VKH disease/PNG\\output."
     ]
    },
    {
     "name": "stderr",
     "output_type": "stream",
     "text": [
      "Processing <PIL.Image.Image image mode=RGB size=2300x1900 at 0x1935F257EB8>: 100%|█| 28/28 [00:21<00:00,  1.31 Samples/s]\n"
     ]
    },
    {
     "name": "stdout",
     "output_type": "stream",
     "text": [
      "Initialised with 26 image(s) found.\n",
      "Output directory set to ./Data/14.ERM/PNG\\output."
     ]
    },
    {
     "name": "stderr",
     "output_type": "stream",
     "text": [
      "Processing <PIL.Image.Image image mode=RGB size=3046x2572 at 0x1935F257390>: 100%|█| 52/52 [00:31<00:00,  1.65 Samples/s]\n"
     ]
    },
    {
     "name": "stdout",
     "output_type": "stream",
     "text": [
      "Initialised with 23 image(s) found.\n",
      "Output directory set to ./Data/15.MH/PNG\\output."
     ]
    },
    {
     "name": "stderr",
     "output_type": "stream",
     "text": [
      "Processing <PIL.Image.Image image mode=RGB size=3046x2572 at 0x1935F257E10>: 100%|█| 46/46 [00:41<00:00,  1.10 Samples/s]\n"
     ]
    },
    {
     "name": "stdout",
     "output_type": "stream",
     "text": [
      "Initialised with 13 image(s) found.\n",
      "Output directory set to ./Data/17.Possible glaucoma/PNG\\output."
     ]
    },
    {
     "name": "stderr",
     "output_type": "stream",
     "text": [
      "Processing <PIL.Image.Image image mode=RGB size=3046x2572 at 0x19300DADB00>: 100%|█| 26/26 [00:23<00:00,  1.08 Samples/s]\n"
     ]
    },
    {
     "name": "stdout",
     "output_type": "stream",
     "text": [
      "Initialised with 12 image(s) found.\n",
      "Output directory set to ./Data/18.Optic atrophy/PNG\\output."
     ]
    },
    {
     "name": "stderr",
     "output_type": "stream",
     "text": [
      "Processing <PIL.Image.Image image mode=RGB size=3046x2572 at 0x1935F26E9E8>: 100%|█| 24/24 [00:21<00:00,  1.13 Samples/s]\n"
     ]
    },
    {
     "name": "stdout",
     "output_type": "stream",
     "text": [
      "Initialised with 15 image(s) found.\n",
      "Output directory set to ./Data/19.Severe hypertensive retinopathy/PNG\\output."
     ]
    },
    {
     "name": "stderr",
     "output_type": "stream",
     "text": [
      "Processing <PIL.Image.Image image mode=RGB size=3046x2572 at 0x1935F25C940>: 100%|█| 30/30 [00:21<00:00,  1.42 Samples/s]\n"
     ]
    },
    {
     "name": "stdout",
     "output_type": "stream",
     "text": [
      "Initialised with 13 image(s) found.\n",
      "Output directory set to ./Data/20.Disc swelling and elevation/PNG\\output."
     ]
    },
    {
     "name": "stderr",
     "output_type": "stream",
     "text": [
      "Processing <PIL.Image.Image image mode=RGB size=3046x2572 at 0x19300DADEB8>: 100%|█| 26/26 [00:15<00:00,  1.71 Samples/s]\n"
     ]
    },
    {
     "name": "stdout",
     "output_type": "stream",
     "text": [
      "Initialised with 10 image(s) found.\n",
      "Output directory set to ./Data/21.Dragged Disc/PNG\\output."
     ]
    },
    {
     "name": "stderr",
     "output_type": "stream",
     "text": [
      "Processing <PIL.Image.Image image mode=RGB size=2300x1900 at 0x1935F24E908>: 100%|█| 20/20 [00:12<00:00,  1.57 Samples/s]\n"
     ]
    },
    {
     "name": "stdout",
     "output_type": "stream",
     "text": [
      "Initialised with 10 image(s) found.\n",
      "Output directory set to ./Data/22.Congenital disc abnormality/PNG\\output."
     ]
    },
    {
     "name": "stderr",
     "output_type": "stream",
     "text": [
      "Processing <PIL.Image.Image image mode=RGB size=2300x1900 at 0x19300DC60F0>: 100%|█| 20/20 [00:12<00:00,  1.59 Samples/s]\n"
     ]
    },
    {
     "name": "stdout",
     "output_type": "stream",
     "text": [
      "Initialised with 22 image(s) found.\n",
      "Output directory set to ./Data/23.Retinitis pigmentosa/PNG\\output."
     ]
    },
    {
     "name": "stderr",
     "output_type": "stream",
     "text": [
      "Processing <PIL.PngImagePlugin.PngImageFile image mode=RGB size=2100x1592 at 0x1930048C1D0>: 100%|█| 44/44 [00:17<00:00,  2.57 Samples/s]\n"
     ]
    },
    {
     "name": "stdout",
     "output_type": "stream",
     "text": [
      "Initialised with 8 image(s) found.\n",
      "Output directory set to ./Data/24.Bietti crystalline dystrophy/PNG\\output."
     ]
    },
    {
     "name": "stderr",
     "output_type": "stream",
     "text": [
      "Processing <PIL.Image.Image image mode=RGB size=2300x1900 at 0x19300D9F9E8>: 100%|█| 16/16 [00:08<00:00,  1.99 Samples/s]\n"
     ]
    },
    {
     "name": "stdout",
     "output_type": "stream",
     "text": [
      "Initialised with 14 image(s) found.\n",
      "Output directory set to ./Data/25.Peripheral retinal degeneration and break/PNG\\output."
     ]
    },
    {
     "name": "stderr",
     "output_type": "stream",
     "text": [
      "Processing <PIL.Image.Image image mode=RGB size=2300x1900 at 0x1935F278A20>: 100%|█| 28/28 [00:16<00:00,  1.74 Samples/s]\n"
     ]
    },
    {
     "name": "stdout",
     "output_type": "stream",
     "text": [
      "Initialised with 11 image(s) found.\n",
      "Output directory set to ./Data/26.Myelinated nerve fiber/PNG\\output."
     ]
    },
    {
     "name": "stderr",
     "output_type": "stream",
     "text": [
      "Processing <PIL.Image.Image image mode=RGB size=768x576 at 0x1935F240748>: 100%|█| 22/22 [00:13<00:00,  1.66 Samples/s]\n"
     ]
    },
    {
     "name": "stdout",
     "output_type": "stream",
     "text": [
      "Initialised with 14 image(s) found.\n",
      "Output directory set to ./Data/27.Vitreous particles/PNG\\output."
     ]
    },
    {
     "name": "stderr",
     "output_type": "stream",
     "text": [
      "Processing <PIL.Image.Image image mode=RGB size=2300x1900 at 0x1935E9943C8>: 100%|█| 28/28 [00:15<00:00,  1.81 Samples/s]\n"
     ]
    },
    {
     "name": "stdout",
     "output_type": "stream",
     "text": [
      "Initialised with 8 image(s) found.\n",
      "Output directory set to ./Data/28.Fundus neoplasm/PNG\\output."
     ]
    },
    {
     "name": "stderr",
     "output_type": "stream",
     "text": [
      "Processing <PIL.Image.Image image mode=RGB size=2300x1900 at 0x19300DAD390>: 100%|█| 16/16 [00:06<00:00,  2.47 Samples/s]\n"
     ]
    },
    {
     "name": "stdout",
     "output_type": "stream",
     "text": [
      "Initialised with 13 image(s) found.\n",
      "Output directory set to ./Data/29.Massive hard exudates/PNG\\output."
     ]
    },
    {
     "name": "stderr",
     "output_type": "stream",
     "text": [
      "Processing <PIL.Image.Image image mode=RGB size=768x576 at 0x1935D5239E8>: 100%|█| 26/26 [00:09<00:00,  2.61 Samples/s]\n"
     ]
    },
    {
     "name": "stdout",
     "output_type": "stream",
     "text": [
      "Initialised with 29 image(s) found.\n",
      "Output directory set to ./Data/30.Yellow-white spots-flecks/PNG\\output."
     ]
    },
    {
     "name": "stderr",
     "output_type": "stream",
     "text": [
      "Processing <PIL.Image.Image image mode=RGB size=2300x1900 at 0x1935E9A1240>: 100%|█| 58/58 [00:43<00:00,  1.33 Samples/s]\n"
     ]
    },
    {
     "name": "stdout",
     "output_type": "stream",
     "text": [
      "Initialised with 10 image(s) found.\n",
      "Output directory set to ./Data/31.Cotton-wool spots/PNG\\output."
     ]
    },
    {
     "name": "stderr",
     "output_type": "stream",
     "text": [
      "Processing <PIL.Image.Image image mode=RGB size=768x576 at 0x19300DADD30>: 100%|█| 20/20 [00:14<00:00,  1.34 Samples/s]\n"
     ]
    },
    {
     "name": "stdout",
     "output_type": "stream",
     "text": [
      "Initialised with 14 image(s) found.\n",
      "Output directory set to ./Data/32.Vessel tortuosity/PNG\\output."
     ]
    },
    {
     "name": "stderr",
     "output_type": "stream",
     "text": [
      "Processing <PIL.Image.Image image mode=RGB size=3046x2572 at 0x19300DADDA0>: 100%|█| 28/28 [00:21<00:00,  1.30 Samples/s]\n"
     ]
    },
    {
     "name": "stdout",
     "output_type": "stream",
     "text": [
      "Initialised with 15 image(s) found.\n",
      "Output directory set to ./Data/33.Chorioretinal atrophy-coloboma/PNG\\output."
     ]
    },
    {
     "name": "stderr",
     "output_type": "stream",
     "text": [
      "Processing <PIL.Image.Image image mode=RGB size=3046x2572 at 0x1935E994320>: 100%|█| 30/30 [00:17<00:00,  1.69 Samples/s]\n"
     ]
    },
    {
     "name": "stdout",
     "output_type": "stream",
     "text": [
      "Initialised with 10 image(s) found.\n",
      "Output directory set to ./Data/34.Preretinal hemorrhage/PNG\\output."
     ]
    },
    {
     "name": "stderr",
     "output_type": "stream",
     "text": [
      "Processing <PIL.Image.Image image mode=RGB size=768x576 at 0x1935E99F898>: 100%|█| 20/20 [00:08<00:00,  2.24 Samples/s]\n"
     ]
    },
    {
     "name": "stdout",
     "output_type": "stream",
     "text": [
      "Initialised with 10 image(s) found.\n",
      "Output directory set to ./Data/35.Fibrosis/PNG\\output."
     ]
    },
    {
     "name": "stderr",
     "output_type": "stream",
     "text": [
      "Processing <PIL.Image.Image image mode=RGB size=3046x2572 at 0x19300DADCC0>: 100%|█| 20/20 [00:12<00:00,  3.82s/ Samples]\n"
     ]
    },
    {
     "name": "stdout",
     "output_type": "stream",
     "text": [
      "Initialised with 20 image(s) found.\n",
      "Output directory set to ./Data/36.Laser Spots/PNG\\output."
     ]
    },
    {
     "name": "stderr",
     "output_type": "stream",
     "text": [
      "Processing <PIL.Image.Image image mode=RGB size=2300x1900 at 0x1935D523710>: 100%|█| 40/40 [00:24<00:00,  1.64 Samples/s]\n"
     ]
    },
    {
     "name": "stdout",
     "output_type": "stream",
     "text": [
      "Initialised with 19 image(s) found.\n",
      "Output directory set to ./Data/37.Silicon oil in eye/PNG\\output."
     ]
    },
    {
     "name": "stderr",
     "output_type": "stream",
     "text": [
      "Processing <PIL.Image.Image image mode=RGB size=2300x1900 at 0x1935E9A1E48>: 100%|█| 38/38 [00:16<00:00,  2.31 Samples/s]\n"
     ]
    },
    {
     "name": "stdout",
     "output_type": "stream",
     "text": [
      "Initialised with 45 image(s) found.\n",
      "Output directory set to ./Data/39.Blur fundus with suspected PDR/PNG\\output."
     ]
    },
    {
     "name": "stderr",
     "output_type": "stream",
     "text": [
      "Processing <PIL.Image.Image image mode=RGB size=2300x1900 at 0x1935E99C390>: 100%|█| 90/90 [00:44<00:00,  2.04 Samples/s]\n"
     ]
    },
    {
     "name": "stdout",
     "output_type": "stream",
     "text": [
      "Initialised with 15 image(s) found.\n",
      "Output directory set to ./Data/40.Glaucoma/PNG\\output."
     ]
    },
    {
     "name": "stderr",
     "output_type": "stream",
     "text": [
      "Processing <PIL.Image.Image image mode=RGB size=3504x2336 at 0x1935D521BE0>: 100%|█| 30/30 [00:31<00:00,  5.05s/ Samples]\n"
     ]
    }
   ],
   "source": [
    "for j in ['01.Normal','02.Tessellated fundus','03.Large optic cup','04.DR1','06.DR3','08.CRVO','09.RAO',\n",
    "          '11.CSCR','12.VKH disease','14.ERM','15.MH','17.Possible glaucoma','18.Optic atrophy',\n",
    "          '19.Severe hypertensive retinopathy','20.Disc swelling and elevation','21.Dragged Disc',\n",
    "          '22.Congenital disc abnormality','23.Retinitis pigmentosa','24.Bietti crystalline dystrophy',\n",
    "          '25.Peripheral retinal degeneration and break','26.Myelinated nerve fiber','27.Vitreous particles',\n",
    "          '28.Fundus neoplasm','29.Massive hard exudates','30.Yellow-white spots-flecks','31.Cotton-wool spots',\n",
    "          '32.Vessel tortuosity','33.Chorioretinal atrophy-coloboma','34.Preretinal hemorrhage','35.Fibrosis',\n",
    "          '36.Laser Spots','37.Silicon oil in eye','39.Blur fundus with suspected PDR','40.Glaucoma']:\n",
    "    \n",
    "    path = './dataset/'+str(j)+'/'\n",
    "    \n",
    "    files = os.listdir(path)\n",
    "    x = len(files)    \n",
    "    \n",
    "    p = Augmentor.Pipeline(\"./Data/\"+str(j)+\"/PNG\")\n",
    "    # Point to a directory containing ground truth data.\n",
    "    # Add operations to the pipeline as normal:\n",
    "    p.rotate(probability=0.9, max_left_rotation=10, max_right_rotation=15)\n",
    "    p.flip_left_right(probability=0.5)\n",
    "    p.flip_top_bottom(probability=0.5)\n",
    "    p.sample(2*x)"
   ]
  },
  {
   "cell_type": "code",
   "execution_count": 34,
   "metadata": {},
   "outputs": [],
   "source": [
    "\n",
    "# Pythono3 code to rename multiple  \n",
    "# files in a directory or folder \n",
    "  \n",
    "# importing os module \n",
    "import os \n",
    "  \n",
    "# Function to rename multiple files \n",
    "def main(): \n",
    "    i = 111\n",
    "    \n",
    "    \n",
    "    \n",
    "    for j in ['01.Normal','02.Tessellated fundus','03.Large optic cup','04.DR1','06.DR3','08.CRVO','09.RAO',\n",
    "          '11.CSCR','12.VKH disease','14.ERM','15.MH','17.Possible glaucoma','18.Optic atrophy',\n",
    "          '19.Severe hypertensive retinopathy','20.Disc swelling and elevation','21.Dragged Disc',\n",
    "          '22.Congenital disc abnormality','23.Retinitis pigmentosa','24.Bietti crystalline dystrophy',\n",
    "          '25.Peripheral retinal degeneration and break','26.Myelinated nerve fiber','27.Vitreous particles',\n",
    "          '28.Fundus neoplasm','29.Massive hard exudates','30.Yellow-white spots-flecks','31.Cotton-wool spots',\n",
    "          '32.Vessel tortuosity','33.Chorioretinal atrophy-coloboma','34.Preretinal hemorrhage','35.Fibrosis',\n",
    "          '36.Laser Spots','37.Silicon oil in eye','39.Blur fundus with suspected PDR','40.Glaucoma']:\n",
    "        path = './dataset/'+str(j)+'/'\n",
    "        files = os.listdir(path)\n",
    "        x = len(files)  \n",
    "      \n",
    "    \n",
    "        for filename in os.listdir(\"./Data/\"+str(j)+\"/PNG/output/\"): \n",
    "            dst =\"./Data/\"+str(j)+\"/PNG/\" + str(x) + \".jpg\" \n",
    "            src =\"./Data/\"+str(j)+\"/PNG/output/\"+ filename \n",
    "\n",
    "\n",
    "            # rename() function will \n",
    "            # rename all the files \n",
    "            os.rename(src, dst) \n",
    "            x += 1\n",
    "\n",
    "# Driver Code \n",
    "if __name__ == '__main__': \n",
    "      \n",
    "    # Calling main() function \n",
    "    main()\n"
   ]
  },
  {
   "cell_type": "code",
   "execution_count": 35,
   "metadata": {},
   "outputs": [
    {
     "name": "stdout",
     "output_type": "stream",
     "text": [
      "Initialised with 38 image(s) found.\n",
      "Output directory set to ./Data/02.Tessellated fundus/PNG\\output."
     ]
    },
    {
     "name": "stderr",
     "output_type": "stream",
     "text": [
      "Processing <PIL.Image.Image image mode=RGB size=2300x1900 at 0x1935D523E80>: 100%|█| 91/91 [00:28<00:00,  3.14 Samples/s]\n"
     ]
    },
    {
     "name": "stdout",
     "output_type": "stream",
     "text": [
      "Initialised with 38 image(s) found.\n",
      "Output directory set to ./Data/04.DR1/PNG\\output."
     ]
    },
    {
     "name": "stderr",
     "output_type": "stream",
     "text": [
      "Processing <PIL.Image.Image image mode=RGB size=3152x3000 at 0x1935F34C198>: 100%|█| 90/90 [00:35<00:00,  2.57 Samples/s]\n"
     ]
    },
    {
     "name": "stdout",
     "output_type": "stream",
     "text": [
      "Initialised with 38 image(s) found.\n",
      "Output directory set to ./Data/05.DR2/PNG\\output."
     ]
    },
    {
     "name": "stderr",
     "output_type": "stream",
     "text": [
      "Processing <PIL.Image.Image image mode=RGB size=2592x1728 at 0x1935E9987F0>: 100%|█| 49/49 [00:31<00:00,  1.57 Samples/s]\n"
     ]
    },
    {
     "name": "stdout",
     "output_type": "stream",
     "text": [
      "Initialised with 38 image(s) found.\n",
      "Output directory set to ./Data/07.BRVO/PNG\\output."
     ]
    },
    {
     "name": "stderr",
     "output_type": "stream",
     "text": [
      "Processing <PIL.Image.Image image mode=RGB size=3046x2572 at 0x1935F34CC88>: 100%|█| 44/44 [00:31<00:00,  1.41 Samples/s]\n"
     ]
    },
    {
     "name": "stdout",
     "output_type": "stream",
     "text": [
      "Initialised with 38 image(s) found.\n",
      "Output directory set to ./Data/11.CSCR/PNG\\output."
     ]
    },
    {
     "name": "stderr",
     "output_type": "stream",
     "text": [
      "Processing <PIL.Image.Image image mode=RGB size=3046x2572 at 0x1935E99F7B8>: 100%|█| 98/98 [00:36<00:00,  1.68 Samples/s]\n"
     ]
    },
    {
     "name": "stdout",
     "output_type": "stream",
     "text": [
      "Initialised with 38 image(s) found.\n",
      "Output directory set to ./Data/12.VKH disease/PNG\\output."
     ]
    },
    {
     "name": "stderr",
     "output_type": "stream",
     "text": [
      "Processing <PIL.Image.Image image mode=RGB size=3046x2572 at 0x1935E99B240>: 100%|█| 98/98 [00:31<00:00,  3.14 Samples/s]\n"
     ]
    },
    {
     "name": "stdout",
     "output_type": "stream",
     "text": [
      "Initialised with 35 image(s) found.\n",
      "Output directory set to ./Data/17.Possible glaucoma/PNG\\output."
     ]
    },
    {
     "name": "stderr",
     "output_type": "stream",
     "text": [
      "Processing <PIL.Image.Image image mode=RGB size=3046x2572 at 0x1935D523E48>: 100%|█| 91/91 [00:25<00:00,  3.51 Samples/s]\n"
     ]
    },
    {
     "name": "stdout",
     "output_type": "stream",
     "text": [
      "Initialised with 36 image(s) found.\n",
      "Output directory set to ./Data/18.Optic atrophy/PNG\\output."
     ]
    },
    {
     "name": "stderr",
     "output_type": "stream",
     "text": [
      "Processing <PIL.Image.Image image mode=RGB size=3046x2572 at 0x1935E9925C0>: 100%|█| 96/96 [00:30<00:00,  3.17 Samples/s]\n"
     ]
    },
    {
     "name": "stdout",
     "output_type": "stream",
     "text": [
      "Initialised with 38 image(s) found.\n",
      "Output directory set to ./Data/19.Severe hypertensive retinopathy/PNG\\output."
     ]
    },
    {
     "name": "stderr",
     "output_type": "stream",
     "text": [
      "Processing <PIL.Image.Image image mode=RGB size=2300x1900 at 0x1935E9923C8>: 100%|█| 90/90 [00:25<00:00,  3.53 Samples/s]\n"
     ]
    },
    {
     "name": "stdout",
     "output_type": "stream",
     "text": [
      "Initialised with 31 image(s) found.\n",
      "Output directory set to ./Data/20.Disc swelling and elevation/PNG\\output."
     ]
    },
    {
     "name": "stderr",
     "output_type": "stream",
     "text": [
      "Processing <PIL.Image.Image image mode=RGB size=2300x1900 at 0x1935D47F780>: 100%|█| 91/91 [00:21<00:00,  4.16 Samples/s]\n"
     ]
    },
    {
     "name": "stdout",
     "output_type": "stream",
     "text": [
      "Initialised with 29 image(s) found.\n",
      "Output directory set to ./Data/21.Dragged Disc/PNG\\output."
     ]
    },
    {
     "name": "stderr",
     "output_type": "stream",
     "text": [
      "Processing <PIL.Image.Image image mode=RGB size=3046x2572 at 0x1935F35B160>: 100%|█| 100/100 [00:20<00:00,  4.80 Samples/s]\n"
     ]
    },
    {
     "name": "stdout",
     "output_type": "stream",
     "text": [
      "Initialised with 28 image(s) found.\n",
      "Output directory set to ./Data/22.Congenital disc abnormality/PNG\\output."
     ]
    },
    {
     "name": "stderr",
     "output_type": "stream",
     "text": [
      "Processing <PIL.Image.Image image mode=RGB size=3046x2572 at 0x1935D55C160>: 100%|█| 100/100 [00:22<00:00,  4.37 Samples/s]\n"
     ]
    },
    {
     "name": "stdout",
     "output_type": "stream",
     "text": [
      "Initialised with 22 image(s) found.\n",
      "Output directory set to ./Data/24.Bietti crystalline dystrophy/PNG\\output."
     ]
    },
    {
     "name": "stderr",
     "output_type": "stream",
     "text": [
      "Processing <PIL.Image.Image image mode=RGB size=768x576 at 0x1935E99FC50>: 100%|█| 104/104 [00:16<00:00,  6.14 Samples/s]\n"
     ]
    },
    {
     "name": "stdout",
     "output_type": "stream",
     "text": [
      "Initialised with 36 image(s) found.\n",
      "Output directory set to ./Data/25.Peripheral retinal degeneration and break/PNG\\output."
     ]
    },
    {
     "name": "stderr",
     "output_type": "stream",
     "text": [
      "Processing <PIL.Image.Image image mode=RGB size=2300x1900 at 0x1935E99D860>: 100%|█| 98/98 [00:23<00:00,  4.17 Samples/s]\n"
     ]
    },
    {
     "name": "stdout",
     "output_type": "stream",
     "text": [
      "Initialised with 33 image(s) found.\n",
      "Output directory set to ./Data/26.Myelinated nerve fiber/PNG\\output."
     ]
    },
    {
     "name": "stderr",
     "output_type": "stream",
     "text": [
      "Processing <PIL.Image.Image image mode=RGB size=2300x1900 at 0x1935E99FD30>: 100%|█| 99/99 [00:22<00:00,  4.43 Samples/s]\n"
     ]
    },
    {
     "name": "stdout",
     "output_type": "stream",
     "text": [
      "Initialised with 38 image(s) found.\n",
      "Output directory set to ./Data/27.Vitreous particles/PNG\\output."
     ]
    },
    {
     "name": "stderr",
     "output_type": "stream",
     "text": [
      "Processing <PIL.Image.Image image mode=RGB size=2300x1900 at 0x1935F34C390>: 100%|█| 98/98 [00:22<00:00,  4.38 Samples/s]\n"
     ]
    },
    {
     "name": "stdout",
     "output_type": "stream",
     "text": [
      "Initialised with 22 image(s) found.\n",
      "Output directory set to ./Data/28.Fundus neoplasm/PNG\\output."
     ]
    },
    {
     "name": "stderr",
     "output_type": "stream",
     "text": [
      "Processing <PIL.Image.Image image mode=RGB size=2300x1900 at 0x1935E992908>: 100%|█| 104/104 [00:14<00:00,  7.08 Samples/s]\n"
     ]
    },
    {
     "name": "stdout",
     "output_type": "stream",
     "text": [
      "Initialised with 37 image(s) found.\n",
      "Output directory set to ./Data/29.Massive hard exudates/PNG\\output."
     ]
    },
    {
     "name": "stderr",
     "output_type": "stream",
     "text": [
      "Processing <PIL.Image.Image image mode=RGB size=2300x1900 at 0x1935E998240>: 100%|█| 91/91 [00:16<00:00,  5.56 Samples/s]\n"
     ]
    },
    {
     "name": "stdout",
     "output_type": "stream",
     "text": [
      "Initialised with 26 image(s) found.\n",
      "Output directory set to ./Data/31.Cotton-wool spots/PNG\\output."
     ]
    },
    {
     "name": "stderr",
     "output_type": "stream",
     "text": [
      "Processing <PIL.Image.Image image mode=RGB size=3046x2572 at 0x1935E99B160>: 100%|█| 100/100 [00:31<00:00,  3.20 Samples/s]\n"
     ]
    },
    {
     "name": "stdout",
     "output_type": "stream",
     "text": [
      "Initialised with 33 image(s) found.\n",
      "Output directory set to ./Data/32.Vessel tortuosity/PNG\\output."
     ]
    },
    {
     "name": "stderr",
     "output_type": "stream",
     "text": [
      "Processing <PIL.Image.Image image mode=RGB size=3046x2572 at 0x1935F35A9B0>: 100%|█| 98/98 [00:32<00:00,  3.06 Samples/s]\n"
     ]
    },
    {
     "name": "stdout",
     "output_type": "stream",
     "text": [
      "Initialised with 37 image(s) found.\n",
      "Output directory set to ./Data/33.Chorioretinal atrophy-coloboma/PNG\\output."
     ]
    },
    {
     "name": "stderr",
     "output_type": "stream",
     "text": [
      "Processing <PIL.Image.Image image mode=RGB size=2300x1900 at 0x19300451DA0>: 100%|█| 90/90 [00:21<00:00,  4.26 Samples/s]\n"
     ]
    },
    {
     "name": "stdout",
     "output_type": "stream",
     "text": [
      "Initialised with 27 image(s) found.\n",
      "Output directory set to ./Data/34.Preretinal hemorrhage/PNG\\output."
     ]
    },
    {
     "name": "stderr",
     "output_type": "stream",
     "text": [
      "Processing <PIL.Image.Image image mode=RGB size=768x576 at 0x1935D523A58>: 100%|█| 100/100 [00:18<00:00,  5.45 Samples/s]\n"
     ]
    },
    {
     "name": "stdout",
     "output_type": "stream",
     "text": [
      "Initialised with 27 image(s) found.\n",
      "Output directory set to ./Data/35.Fibrosis/PNG\\output."
     ]
    },
    {
     "name": "stderr",
     "output_type": "stream",
     "text": [
      "Processing <PIL.Image.Image image mode=RGB size=2300x1900 at 0x1935E998940>: 100%|█| 100/100 [00:24<00:00,  4.10 Samples/s]\n"
     ]
    },
    {
     "name": "stdout",
     "output_type": "stream",
     "text": [
      "Initialised with 37 image(s) found.\n",
      "Output directory set to ./Data/40.Glaucoma/PNG\\output."
     ]
    },
    {
     "name": "stderr",
     "output_type": "stream",
     "text": [
      "Processing <PIL.Image.Image image mode=RGB size=3504x2336 at 0x1935F24F390>: 100%|█| 90/90 [00:39<00:00,  2.28 Samples/s]\n"
     ]
    }
   ],
   "source": [
    "for j in ['02.Tessellated fundus',\n",
    "          '04.DR1',\n",
    "          '05.DR2',\n",
    "          '07.BRVO',\n",
    "          '11.CSCR',\n",
    "          '12.VKH disease',\n",
    "          '17.Possible glaucoma',\n",
    "          '18.Optic atrophy',\n",
    "          '19.Severe hypertensive retinopathy',\n",
    "          '20.Disc swelling and elevation',\n",
    "          '21.Dragged Disc',\n",
    "          '22.Congenital disc abnormality',\n",
    "          '24.Bietti crystalline dystrophy',\n",
    "          '25.Peripheral retinal degeneration and break',\n",
    "          '26.Myelinated nerve fiber',\n",
    "          '27.Vitreous particles',\n",
    "          '28.Fundus neoplasm',\n",
    "          '29.Massive hard exudates',\n",
    "          '31.Cotton-wool spots',\n",
    "          '32.Vessel tortuosity',\n",
    "          '33.Chorioretinal atrophy-coloboma',\n",
    "          '34.Preretinal hemorrhage',\n",
    "          '35.Fibrosis',\n",
    "          '40.Glaucoma']:\n",
    "    \n",
    "    path = './dataset/'+str(j)+'/'\n",
    "    \n",
    "    files = os.listdir(path)\n",
    "    x = len(files)    \n",
    "    \n",
    "    p = Augmentor.Pipeline(\"./Data/\"+str(j)+\"/PNG\")\n",
    "    # Point to a directory containing ground truth data.\n",
    "    # Add operations to the pipeline as normal:\n",
    "    p.rotate(probability=0.9, max_left_rotation=10, max_right_rotation=15)\n",
    "    p.flip_left_right(probability=0.5)\n",
    "    p.flip_top_bottom(probability=0.5)\n",
    "    p.sample((int(114/x) * x) - x)"
   ]
  },
  {
   "cell_type": "code",
   "execution_count": 37,
   "metadata": {},
   "outputs": [],
   "source": [
    "\n",
    "# Pythono3 code to rename multiple  \n",
    "# files in a directory or folder \n",
    "  \n",
    "# importing os module \n",
    "import os \n",
    "  \n",
    "# Function to rename multiple files \n",
    "def main(): \n",
    "    i = 111\n",
    "    \n",
    "    \n",
    "    \n",
    "    for j in ['02.Tessellated fundus',\n",
    "          '04.DR1',\n",
    "          '05.DR2',\n",
    "          '07.BRVO',\n",
    "          '11.CSCR',\n",
    "          '12.VKH disease',\n",
    "          '17.Possible glaucoma',\n",
    "          '18.Optic atrophy',\n",
    "          '19.Severe hypertensive retinopathy',\n",
    "          '20.Disc swelling and elevation',\n",
    "          '21.Dragged Disc',\n",
    "          '22.Congenital disc abnormality',\n",
    "          '24.Bietti crystalline dystrophy',\n",
    "          '25.Peripheral retinal degeneration and break',\n",
    "          '26.Myelinated nerve fiber',\n",
    "          '27.Vitreous particles',\n",
    "          '28.Fundus neoplasm',\n",
    "          '29.Massive hard exudates',\n",
    "          '31.Cotton-wool spots',\n",
    "          '32.Vessel tortuosity',\n",
    "          '33.Chorioretinal atrophy-coloboma',\n",
    "          '34.Preretinal hemorrhage',\n",
    "          '35.Fibrosis',\n",
    "          '40.Glaucoma']:\n",
    "        \n",
    "        path = './Data/'+str(j)+'/PNG/'\n",
    "        files = os.listdir(path)\n",
    "        x = len(files)  \n",
    "      \n",
    "    \n",
    "        for filename in os.listdir(\"./Data/\"+str(j)+\"/PNG/output/\"): \n",
    "            dst =\"./Data/\"+str(j)+\"/PNG/\" + str(x) + \".jpg\" \n",
    "            src =\"./Data/\"+str(j)+\"/PNG/output/\"+ filename \n",
    "\n",
    "\n",
    "            # rename() function will \n",
    "            # rename all the files \n",
    "            os.rename(src, dst) \n",
    "            x += 1\n",
    "\n",
    "# Driver Code \n",
    "if __name__ == '__main__': \n",
    "      \n",
    "    # Calling main() function \n",
    "    main()\n"
   ]
  },
  {
   "cell_type": "code",
   "execution_count": 38,
   "metadata": {},
   "outputs": [
    {
     "name": "stdout",
     "output_type": "stream",
     "text": [
      "Initialised with 57 image(s) found.\n",
      "Output directory set to ./Data/08.CRVO/PNG\\output."
     ]
    },
    {
     "name": "stderr",
     "output_type": "stream",
     "text": [
      "Processing <PIL.Image.Image image mode=RGB size=2300x1900 at 0x19300D9FEF0>: 100%|█| 58/58 [00:06<00:00,  3.03 Samples/s]\n"
     ]
    },
    {
     "name": "stdout",
     "output_type": "stream",
     "text": [
      "Initialised with 48 image(s) found.\n",
      "Output directory set to ./Data/09.RAO/PNG\\output."
     ]
    },
    {
     "name": "stderr",
     "output_type": "stream",
     "text": [
      "Processing <PIL.Image.Image image mode=RGB size=2300x1900 at 0x1935F35AE80>: 100%|█| 49/49 [00:06<00:00,  7.21 Samples/s]\n"
     ]
    },
    {
     "name": "stdout",
     "output_type": "stream",
     "text": [
      "Initialised with 57 image(s) found.\n",
      "Output directory set to ./Data/10.Rhegmatogenous RD/PNG\\output."
     ]
    },
    {
     "name": "stderr",
     "output_type": "stream",
     "text": [
      "Processing <PIL.Image.Image image mode=RGB size=3046x2572 at 0x1935F2792E8>: 100%|█| 57/57 [00:32<00:00,  1.78 Samples/s]\n"
     ]
    },
    {
     "name": "stdout",
     "output_type": "stream",
     "text": [
      "Initialised with 70 image(s) found.\n",
      "Output directory set to ./Data/13.Maculopathy/PNG\\output."
     ]
    },
    {
     "name": "stderr",
     "output_type": "stream",
     "text": [
      "Processing <PIL.Image.Image image mode=RGB size=3046x2572 at 0x1935F35A748>: 100%|█| 70/70 [00:38<00:00,  1.80 Samples/s]\n"
     ]
    },
    {
     "name": "stdout",
     "output_type": "stream",
     "text": [
      "Initialised with 64 image(s) found.\n",
      "Output directory set to ./Data/14.ERM/PNG\\output."
     ]
    },
    {
     "name": "stderr",
     "output_type": "stream",
     "text": [
      "Processing <PIL.PngImagePlugin.PngImageFile image mode=RGB size=2300x1900 at 0x1935E99B668>: 100%|█| 65/65 [00:23<00:00,  9.37 Samples/s]\n"
     ]
    },
    {
     "name": "stdout",
     "output_type": "stream",
     "text": [
      "Initialised with 55 image(s) found.\n",
      "Output directory set to ./Data/15.MH/PNG\\output."
     ]
    },
    {
     "name": "stderr",
     "output_type": "stream",
     "text": [
      "Processing <PIL.Image.Image image mode=RGB size=3046x2572 at 0x1935E994588>: 100%|█| 56/56 [00:33<00:00,  1.68 Samples/s]\n"
     ]
    },
    {
     "name": "stdout",
     "output_type": "stream",
     "text": [
      "Initialised with 54 image(s) found.\n",
      "Output directory set to ./Data/16.Pathological myopia/PNG\\output."
     ]
    },
    {
     "name": "stderr",
     "output_type": "stream",
     "text": [
      "Processing <PIL.Image.Image image mode=RGB size=3046x2572 at 0x1935F35B780>: 100%|█| 54/54 [00:29<00:00,  1.81 Samples/s]\n"
     ]
    },
    {
     "name": "stdout",
     "output_type": "stream",
     "text": [
      "Initialised with 55 image(s) found.\n",
      "Output directory set to ./Data/23.Retinitis pigmentosa/PNG\\output."
     ]
    },
    {
     "name": "stderr",
     "output_type": "stream",
     "text": [
      "Processing <PIL.Image.Image image mode=RGB size=2100x1592 at 0x19300DA2438>: 100%|█| 56/56 [00:07<00:00,  7.75 Samples/s]\n"
     ]
    },
    {
     "name": "stdout",
     "output_type": "stream",
     "text": [
      "Initialised with 69 image(s) found.\n",
      "Output directory set to ./Data/30.Yellow-white spots-flecks/PNG\\output."
     ]
    },
    {
     "name": "stderr",
     "output_type": "stream",
     "text": [
      "Processing <PIL.Image.Image image mode=RGB size=3046x2572 at 0x1935F35BC50>: 100%|█| 70/70 [00:14<00:00,  4.99 Samples/s]\n"
     ]
    },
    {
     "name": "stdout",
     "output_type": "stream",
     "text": [
      "Initialised with 53 image(s) found.\n",
      "Output directory set to ./Data/36.Laser Spots/PNG\\output."
     ]
    },
    {
     "name": "stderr",
     "output_type": "stream",
     "text": [
      "Processing <PIL.Image.Image image mode=RGB size=2300x1900 at 0x1935F35B198>: 100%|█| 54/54 [00:09<00:00,  5.92 Samples/s]\n"
     ]
    },
    {
     "name": "stdout",
     "output_type": "stream",
     "text": [
      "Initialised with 57 image(s) found.\n",
      "Output directory set to ./Data/37.Silicon oil in eye/PNG\\output."
     ]
    },
    {
     "name": "stderr",
     "output_type": "stream",
     "text": [
      "Processing <PIL.Image.Image image mode=RGB size=2300x1900 at 0x1935D527668>: 100%|█| 58/58 [00:05<00:00, 11.49 Samples/s]\n"
     ]
    }
   ],
   "source": [
    "\n",
    "            \n",
    "for j in ['08.CRVO',\n",
    "          '09.RAO',\n",
    "          '10.Rhegmatogenous RD',\n",
    "          '13.Maculopathy',\n",
    "          '14.ERM',\n",
    "          '15.MH',\n",
    "          '16.Pathological myopia',\n",
    "          '23.Retinitis pigmentosa',\n",
    "          '30.Yellow-white spots-flecks',\n",
    "          '36.Laser Spots',\n",
    "          '37.Silicon oil in eye']:\n",
    "    \n",
    "    path = './Data/'+str(j)+'/PNG/'\n",
    "    \n",
    "    files = os.listdir(path)\n",
    "    x = len(files)    \n",
    "    \n",
    "    p = Augmentor.Pipeline(\"./Data/\"+str(j)+\"/PNG\")\n",
    "    # Point to a directory containing ground truth data.\n",
    "    # Add operations to the pipeline as normal:\n",
    "    p.flip_left_right(probability=0.5)\n",
    "    p.flip_top_bottom(probability=0.5)\n",
    "    p.sample(x)"
   ]
  },
  {
   "cell_type": "code",
   "execution_count": 39,
   "metadata": {},
   "outputs": [],
   "source": [
    "\n",
    "# Pythono3 code to rename multiple  \n",
    "# files in a directory or folder \n",
    "  \n",
    "# importing os module \n",
    "import os \n",
    "  \n",
    "# Function to rename multiple files \n",
    "def main(): \n",
    "    \n",
    "    for j in ['08.CRVO',\n",
    "          '09.RAO',\n",
    "          '10.Rhegmatogenous RD',\n",
    "          '13.Maculopathy',\n",
    "          '14.ERM',\n",
    "          '15.MH',\n",
    "          '16.Pathological myopia',\n",
    "          '23.Retinitis pigmentosa',\n",
    "          '30.Yellow-white spots-flecks',\n",
    "          '36.Laser Spots',\n",
    "          '37.Silicon oil in eye']:\n",
    "        \n",
    "        path = './Data/'+str(j)+'/PNG/'\n",
    "        files = os.listdir(path)\n",
    "        x = len(files)  \n",
    "    \n",
    "        for filename in os.listdir(\"./Data/\"+str(j)+\"/PNG/output/\"): \n",
    "            dst =\"./Data/\"+str(j)+\"/PNG/\" + str(x) + \".jpg\" \n",
    "            src =\"./Data/\"+str(j)+\"/PNG/output/\"+ filename \n",
    "\n",
    "\n",
    "            # rename() function will \n",
    "            # rename all the files \n",
    "            os.rename(src, dst) \n",
    "            x += 1\n",
    "\n",
    "# Driver Code \n",
    "if __name__ == '__main__': \n",
    "      \n",
    "    # Calling main() function \n",
    "    main()\n"
   ]
  },
  {
   "cell_type": "code",
   "execution_count": 4,
   "metadata": {},
   "outputs": [],
   "source": [
    "import os\n",
    "\n",
    "for i in ['01.Normal','02.Tessellated fundus','03.Large optic cup','05.DR2',\n",
    "          '07.BRVO','04.DR1','06.DR3','08.CRVO','09.RAO','10.Rhegmatogenous RD','11.CSCR','12.VKH disease',\n",
    "          '13.Maculopathy','14.ERM','15.MH','16.Pathological myopia','17.Possible glaucoma','18.Optic atrophy',\n",
    "          '19.Severe hypertensive retinopathy','20.Disc swelling and elevation','21.Dragged Disc','22.Congenital disc abnormality',\n",
    "          '23.Retinitis pigmentosa','24.Bietti crystalline dystrophy','25.Peripheral retinal degeneration and break',\n",
    "          '26.Myelinated nerve fiber','27.Vitreous particles','28.Fundus neoplasm','29.Massive hard exudates','30.Yellow-white spots-flecks',\n",
    "          '31.Cotton-wool spots','32.Vessel tortuosity','33.Chorioretinal atrophy-coloboma','34.Preretinal hemorrhage',\n",
    "          '35.Fibrosis','36.Laser Spots','37.Silicon oil in eye','38.Blur fundus without PDR','39.Blur fundus with suspected PDR',\n",
    "          '40.Glaucoma']:\n",
    "    path = './Data/'+str(i)+'/'\n",
    "    files = os.listdir(path)\n",
    "    for index, file in enumerate(files):\n",
    "        os.rename(os.path.join(path, file), os.path.join(path, ''.join([str(index), '.jpg'])))"
   ]
  },
  {
   "cell_type": "code",
   "execution_count": null,
   "metadata": {},
   "outputs": [],
   "source": []
  }
 ],
 "metadata": {
  "kernelspec": {
   "display_name": "Python 3",
   "language": "python",
   "name": "python3"
  },
  "language_info": {
   "codemirror_mode": {
    "name": "ipython",
    "version": 3
   },
   "file_extension": ".py",
   "mimetype": "text/x-python",
   "name": "python",
   "nbconvert_exporter": "python",
   "pygments_lexer": "ipython3",
   "version": "3.6.6"
  }
 },
 "nbformat": 4,
 "nbformat_minor": 2
}
